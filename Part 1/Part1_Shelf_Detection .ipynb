{
 "cells": [
  {
   "cell_type": "code",
   "execution_count": 1,
   "id": "3ed2e129-8611-4c1a-b188-a16b407a25be",
   "metadata": {},
   "outputs": [],
   "source": [
    "import cv2\n",
    "from ultralytics import YOLO"
   ]
  },
  {
   "cell_type": "code",
   "execution_count": 2,
   "id": "65ffbc02-1bd5-4e92-8ce1-9649f3779c71",
   "metadata": {},
   "outputs": [],
   "source": [
    "model = YOLO('./model/finetuned_yolo11n.pt')"
   ]
  },
  {
   "cell_type": "code",
   "execution_count": 3,
   "id": "67b9d263-a914-47ca-b77b-470663a36864",
   "metadata": {},
   "outputs": [
    {
     "name": "stdout",
     "output_type": "stream",
     "text": [
      "\n",
      "image 1/1 /Users/shohaibmk/Downloads/Shelf_Lubec_Short_Walnut_86556_1296x.jpg.webp: 640x640 1 shelf, 367.4ms\n",
      "Speed: 8.7ms preprocess, 367.4ms inference, 15.2ms postprocess per image at shape (1, 3, 640, 640)\n",
      "Results saved to \u001b[1mruns/detect/predict22\u001b[0m\n"
     ]
    }
   ],
   "source": [
    "#source is the path/URL to the photo/video on which object detection is to be performed\n",
    "source = '/Users/shohaibmk/Downloads/Shelf_Lubec_Short_Walnut_86556_1296x.jpg.webp'\n",
    "result = model(source=source,show=False,conf=0.5,save=True)"
   ]
  }
 ],
 "metadata": {
  "kernelspec": {
   "display_name": "Python 3 (ipykernel)",
   "language": "python",
   "name": "python3"
  },
  "language_info": {
   "codemirror_mode": {
    "name": "ipython",
    "version": 3
   },
   "file_extension": ".py",
   "mimetype": "text/x-python",
   "name": "python",
   "nbconvert_exporter": "python",
   "pygments_lexer": "ipython3",
   "version": "3.9.20"
  }
 },
 "nbformat": 4,
 "nbformat_minor": 5
}
