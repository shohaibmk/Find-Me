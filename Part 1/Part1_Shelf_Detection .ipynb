{
 "cells": [
  {
   "cell_type": "code",
   "execution_count": 1,
   "id": "3ed2e129-8611-4c1a-b188-a16b407a25be",
   "metadata": {},
   "outputs": [],
   "source": [
    "import cv2\n",
    "from ultralytics import YOLO\n",
    "import numpy as np"
   ]
  },
  {
   "cell_type": "code",
   "execution_count": 2,
   "id": "65ffbc02-1bd5-4e92-8ce1-9649f3779c71",
   "metadata": {},
   "outputs": [],
   "source": [
    "model = YOLO('/Users/shohaibmk/Downloads/best-2.pt')"
   ]
  },
  {
   "cell_type": "code",
   "execution_count": 5,
   "id": "67b9d263-a914-47ca-b77b-470663a36864",
   "metadata": {},
   "outputs": [
    {
     "name": "stdout",
     "output_type": "stream",
     "text": [
      "\n",
      "image 1/1 /Users/shohaibmk/Downloads/Shelf_Lubec_Short_Walnut_86556_1296x.jpg.webp: 640x640 1 shelf, 416.2ms\n",
      "Speed: 38.5ms preprocess, 416.2ms inference, 35.5ms postprocess per image at shape (1, 3, 640, 640)\n",
      "Results saved to \u001b[1mruns/detect/predict21\u001b[0m\n"
     ]
    }
   ],
   "source": [
    "# source = '/Users/shohaibmk/Documents/Assessment /dataset/product_detection_from_packshots/shelf_images'\n",
    "source= '/Users/shohaibmk/Downloads/Shelf_Lubec_Short_Walnut_86556_1296x.jpg.webpt'\n",
    "result = model(source=source,show=False,conf=0.5,save=True)\n",
    "\n",
    "\n"
   ]
  },
  {
   "cell_type": "code",
   "execution_count": 4,
   "id": "6b50705e-fbe7-455f-ab0d-c5ad11f664cd",
   "metadata": {},
   "outputs": [
    {
     "data": {
      "text/plain": [
       "'runs/detect/predict11'"
      ]
     },
     "execution_count": 4,
     "metadata": {},
     "output_type": "execute_result"
    }
   ],
   "source": [
    "result[0].save_dir"
   ]
  },
  {
   "cell_type": "code",
   "execution_count": 5,
   "id": "f349ad68-9656-4e9f-becb-5b3653cb6ba9",
   "metadata": {},
   "outputs": [
    {
     "name": "stderr",
     "output_type": "stream",
     "text": [
      "2024-11-20 13:14:30.212 python[12597:19938357] +[IMKClient subclass]: chose IMKClient_Legacy\n",
      "2024-11-20 13:14:30.213 python[12597:19938357] +[IMKInputSession subclass]: chose IMKInputSession_Legacy\n"
     ]
    },
    {
     "name": "stdout",
     "output_type": "stream",
     "text": [
      "Destroying windows...\n"
     ]
    }
   ],
   "source": [
    "for images in result:\n",
    "    image = cv2.imread(images.save_dir+\"/shelves.jpg\")\n",
    "    \n",
    "    cv2.imshow('results',image)\n",
    "    cv2.waitKey(0)\n",
    "    # cv2.destroyAllWindows()\n",
    "    print(\"Destroying windows...\")\n",
    "    cv2.destroyAllWindows()\n",
    "\n",
    "\n"
   ]
  }
 ],
 "metadata": {
  "kernelspec": {
   "display_name": "Python 3 (ipykernel)",
   "language": "python",
   "name": "python3"
  },
  "language_info": {
   "codemirror_mode": {
    "name": "ipython",
    "version": 3
   },
   "file_extension": ".py",
   "mimetype": "text/x-python",
   "name": "python",
   "nbconvert_exporter": "python",
   "pygments_lexer": "ipython3",
   "version": "3.9.20"
  }
 },
 "nbformat": 4,
 "nbformat_minor": 5
}
