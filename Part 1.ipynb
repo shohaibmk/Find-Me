{
 "cells": [
  {
   "cell_type": "code",
   "execution_count": null,
   "id": "fac4f5ac-e3d4-43cc-abb7-0fecb4b3d8ec",
   "metadata": {},
   "outputs": [],
   "source": []
  },
  {
   "cell_type": "code",
   "execution_count": 1,
   "id": "185e04be-f4d6-4173-b28b-b1398c066b7a",
   "metadata": {
    "scrolled": true
   },
   "outputs": [],
   "source": [
    "#pip install opencv-contrib-python"
   ]
  },
  {
   "cell_type": "code",
   "execution_count": 58,
   "id": "3ed2e129-8611-4c1a-b188-a16b407a25be",
   "metadata": {},
   "outputs": [],
   "source": [
    "import cv2 as cv\n"
   ]
  },
  {
   "cell_type": "code",
   "execution_count": null,
   "id": "0276ce61-9bd4-4ba1-99af-ad16caddd910",
   "metadata": {},
   "outputs": [],
   "source": []
  },
  {
   "cell_type": "code",
   "execution_count": null,
   "id": "307b040c-a277-4529-b2d0-149488d0141a",
   "metadata": {},
   "outputs": [],
   "source": []
  },
  {
   "cell_type": "code",
   "execution_count": 23,
   "id": "3f7a94bf-c2a7-4538-82d9-b01bb0e625a2",
   "metadata": {},
   "outputs": [
    {
     "data": {
      "text/plain": [
       "(1200, 1200)"
      ]
     },
     "execution_count": 23,
     "metadata": {},
     "output_type": "execute_result"
    }
   ],
   "source": [
    "image = cv.imread('shelves.jpg')\n",
    "cv.imshow('shelves',img)\n",
    "original_shape = image.shape[:2] #dimension of the image H x W\n",
    "# cv.waitKey(0)\n",
    "original_shape\n"
   ]
  },
  {
   "cell_type": "code",
   "execution_count": null,
   "id": "012027b3-28c0-4078-a6ef-4e2188cd259a",
   "metadata": {},
   "outputs": [],
   "source": []
  },
  {
   "cell_type": "code",
   "execution_count": 63,
   "id": "346d89e6-9347-4f19-a46d-082a3556e1d2",
   "metadata": {},
   "outputs": [],
   "source": [
    "import time\n",
    "import datetime"
   ]
  },
  {
   "cell_type": "code",
   "execution_count": 65,
   "id": "909bfe01-072f-4d2c-9fde-7ffaaf742b3a",
   "metadata": {},
   "outputs": [
    {
     "name": "stdout",
     "output_type": "stream",
     "text": [
      "1731986233.6618361\n",
      "22:17:13\n",
      "Can't receive frame (stream end?). Exiting ...\n",
      "1731986320.983681\n",
      "22:18:40\n"
     ]
    }
   ],
   "source": [
    "def resizedVideo(image,scale):\n",
    "    height = int(image.shape[0] * scale)\n",
    "    width = int(image.shape[1] * scale)\n",
    "    dimension = (width,height)\n",
    "    return cv.resize(image,dimension,interpolation = cv.INTER_AREA )\n",
    "\n",
    "# cap = cv.VideoCapture(0)\n",
    "cap = cv.VideoCapture('catVideo.mp4')\n",
    "count = 0\n",
    "\n",
    "\n",
    "\n",
    "ts = time.time()\n",
    "print(ts)\n",
    "currentTime = datetime.datetime.fromtimestamp(ts).strftime('%H:%M:%S')\n",
    "print(currentTime)\n",
    "\n",
    "while True:\n",
    "    # Capture frame-by-frame\n",
    "    ret, frame = cap.read()\n",
    " \n",
    "    # if frame is read correctly ret is True\n",
    "    if not ret:\n",
    "        print(\"Can't receive frame (stream end?). Exiting ...\")\n",
    "        break\n",
    "    # Our operations on the frame come here\n",
    "    # print(frame.shape[:2])\n",
    "    # reframe = resizedVideo(frame,1)\n",
    "    # print(reframe.shape[:2])\n",
    "\n",
    "\n",
    "    gray = cv.cvtColor(frame, cv.COLOR_BGR2GRAY)\n",
    "    # Display the resulting frame\n",
    "    # if count%2==0:\n",
    "    cv.imshow('frame', frame)\n",
    "    # cv.imshow('frame 1', reframe)\n",
    "    if cv.waitKey(1) == ord('q'):\n",
    "        break\n",
    "    count+=1\n",
    " \n",
    "# When everything done, release the capture\n",
    "cap.release()\n",
    "cv.destroyAllWindows()\n",
    "ts = time.time()\n",
    "print(ts)\n",
    "currentTime = datetime.datetime.fromtimestamp(ts).strftime('%H:%M:%S')\n",
    "print(currentTime)"
   ]
  },
  {
   "cell_type": "code",
   "execution_count": null,
   "id": "cbe07c9e-3dfc-4522-b3b7-5e6b316208e6",
   "metadata": {},
   "outputs": [],
   "source": []
  },
  {
   "cell_type": "code",
   "execution_count": 66,
   "id": "49701133-8d2c-4dab-b441-03a317d065bb",
   "metadata": {},
   "outputs": [
    {
     "ename": "NameError",
     "evalue": "name 'cv2' is not defined",
     "output_type": "error",
     "traceback": [
      "\u001b[0;31m---------------------------------------------------------------------------\u001b[0m",
      "\u001b[0;31mNameError\u001b[0m                                 Traceback (most recent call last)",
      "Cell \u001b[0;32mIn[66], line 1\u001b[0m\n\u001b[0;32m----> 1\u001b[0m \u001b[43mcv2\u001b[49m\u001b[38;5;241m.\u001b[39mdestroyWindow(\u001b[38;5;124m'\u001b[39m\u001b[38;5;124mframe\u001b[39m\u001b[38;5;124m'\u001b[39m)\n",
      "\u001b[0;31mNameError\u001b[0m: name 'cv2' is not defined"
     ]
    }
   ],
   "source": [
    "cv.destroyWindow('frame')"
   ]
  },
  {
   "cell_type": "code",
   "execution_count": null,
   "id": "61e0af64-1c3d-49f2-8a89-4c64a1e15e8a",
   "metadata": {},
   "outputs": [],
   "source": [
    "\n",
    "    1731986134.126784\n",
    "22:15:34\n",
    "Can't receive frame (stream end?). Exiting ...\n",
    "1731986200.4623759\n",
    "22:16:40"
   ]
  }
 ],
 "metadata": {
  "kernelspec": {
   "display_name": "Python 3 (ipykernel)",
   "language": "python",
   "name": "python3"
  },
  "language_info": {
   "codemirror_mode": {
    "name": "ipython",
    "version": 3
   },
   "file_extension": ".py",
   "mimetype": "text/x-python",
   "name": "python",
   "nbconvert_exporter": "python",
   "pygments_lexer": "ipython3",
   "version": "3.9.20"
  }
 },
 "nbformat": 4,
 "nbformat_minor": 5
}
